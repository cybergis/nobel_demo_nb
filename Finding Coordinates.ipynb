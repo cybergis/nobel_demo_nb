{
 "cells": [
  {
   "cell_type": "markdown",
   "metadata": {},
   "source": [
    "# Working with Coordinates"
   ]
  },
  {
   "cell_type": "markdown",
   "metadata": {},
   "source": [
    "Knowing how to find a place by its coordinates and to find coordinates for a specific place are two key techniques needed to make digital maps."
   ]
  },
  {
   "cell_type": "markdown",
   "metadata": {},
   "source": [
    "## Part 1: What are Coordinates"
   ]
  },
  {
   "cell_type": "markdown",
   "metadata": {},
   "source": [
    "How do you map something? If you are using pen and paper, you can draw things directly on the paper. However, for  digital maps you need to use a grid.\n",
    "\n",
    "Since the earth is a sphere, we often use **latitude** and **longitude** numbers to indicate a point on the earth's surface. These can be thought of a global/planetary “address” that is used by GPS/computers. Longitude lines are always the same length, but latitude lines get smaller closer to the poles. The equator and the prime meridian divide the earth into hemispheres. The equator divides the earth into **North** and **South** hemispheres, and the prime meridian divides the earth into **East** and **West** hemispheres.\n",
    "\n",
    "<table><tr style=\"background-color:#FFFFFF;\"><td><img src=\"img/grids.png\" width=\"400\"></td><td width=\"40\"></td>\n",
    "<td><img src=\"https://c.tadst.com/gfx/1200x630/longitude-and-latitude-simple.png?1\" width=\"400\"></td></tr></table>\n",
    "\n",
    "\n",
    "<p style=\"font-size:60%\">Image sources: R. Vandewalle, https://www.timeanddate.com/geography/longitude-latitude.html</p>"
   ]
  },
  {
   "cell_type": "markdown",
   "metadata": {},
   "source": [
    "### Try it out -  what hemisphere is Illinois in?"
   ]
  },
  {
   "cell_type": "markdown",
   "metadata": {},
   "source": [
    "So what can we do with information? We can use the **latitude** and **longitude** grid to specify a location in a way that can easily be found on a map. If I tried to find the Illini Union on a map and the map didn't have a record for where this building was, it wouldn't be able to display the correct location. However, if I knew the coordinates of the building and looked there, I would be able to find it!"
   ]
  },
  {
   "cell_type": "markdown",
   "metadata": {},
   "source": [
    " \n"
   ]
  },
  {
   "cell_type": "markdown",
   "metadata": {},
   "source": [
    " "
   ]
  },
  {
   "cell_type": "markdown",
   "metadata": {},
   "source": [
    "### 40.109639, -88.227207 is a set of coordinates - what do these numbers mean?"
   ]
  },
  {
   "cell_type": "markdown",
   "metadata": {},
   "source": [
    "### They stand for Latitude (N or S), Longitude (E or W)"
   ]
  },
  {
   "cell_type": "markdown",
   "metadata": {},
   "source": [
    "- The **first number** represents the **latitude** value, a number between -90 and 90: how far north or south the location is compared to the equator (which is 0). \n",
    "- The **second number** represents the  **longitude** value,  a number between -180 and 180: how far east or west the location is compared to the prime meridian (which is 0).\n",
    "\n",
    "We use **degrees**, which can be written like this: º ,  to refer to a number of latitude or longitude. So for example you can say 40 degrees latitude or 40º latitude.\n",
    "\n",
    "<img src=\"img/latlong_n.png\" width=\"800\">\n",
    "\n",
    "You also need to specify a direction! +40.109639, -88.227207 is a way of specifying **latitude** and **longitude** in a similar fashion to the **X and Y axis**. The **positive +** and **negative -** signs indicate the hemisphere (if there is no + or - sign, that means the number is positive).\n",
    "\n",
    "<img src=\"https://www.excelsupersite.com/wp-content/uploads/2017/07/ConvertDDToDMS_02.png\" width=\"400\">\n",
    "\n",
    "<p style=\"font-size:60%\">Image sources: R. Vandewalle, https://www.excelsupersite.com/easily-convert-decimal-degrees-to-degrees-minutes-seconds-in-excel/</p>"
   ]
  },
  {
   "cell_type": "markdown",
   "metadata": {},
   "source": [
    "### Try it out: 40.109639, -88.227207 - this location is in which hemispheres?"
   ]
  },
  {
   "cell_type": "markdown",
   "metadata": {},
   "source": [
    "Look at the signs!"
   ]
  },
  {
   "cell_type": "markdown",
   "metadata": {},
   "source": [
    "  "
   ]
  },
  {
   "cell_type": "markdown",
   "metadata": {},
   "source": [
    " "
   ]
  },
  {
   "cell_type": "markdown",
   "metadata": {},
   "source": [
    "### OK so where exactly is 40.109639, -88.227207?"
   ]
  },
  {
   "cell_type": "markdown",
   "metadata": {},
   "source": [
    "Go to https://www.google.com/maps/ and search for \"40.109639, -88.227207\". It will show the location of the Illini Union!<img src=\"img/illini-union.png\" width=\"400\">\n",
    "Here the Illini Union is 40 degrees north of the equator and 88 degrees west of the prime meridian. Thus in the northern hemisphere and the western hemisphere. Also note that these coordinates refer to the same place as 40°06'34.7\"N 88°13'38.0\"W, however the first version is easier for computers to deal with and often used for digital maps."
   ]
  },
  {
   "cell_type": "markdown",
   "metadata": {},
   "source": [
    "## Part 2: Find coordinates for a place using Google Maps"
   ]
  },
  {
   "cell_type": "markdown",
   "metadata": {},
   "source": [
    "#### Note that for your privacy, it's best not to map your house!"
   ]
  },
  {
   "cell_type": "markdown",
   "metadata": {},
   "source": [
    "Above, you could find the Illini Union using the coordinates I provided earlier. Now I'll show you how to find the coordinates of one of your favorite places in Google Maps. Here's how:\n",
    "\n",
    "1. Zoom to the place you are interested in\n",
    "1. Right click, control click, or click with 2 fingers on the map until a menu pops up\n",
    "1. Select **What's here?** on the floating menu\n",
    "1. A little box will come up on the bottom of the page showing the coordinates (it may also display a building name or address, also if you move the map it tends to disapear so if this happens try again)\n",
    "1. You can either copy the coordinates directly from this box or click the **coordinates** on the box to display the coordinates in the left sidebar and copy them from there"
   ]
  },
  {
   "cell_type": "markdown",
   "metadata": {},
   "source": [
    "<table><tr style=\"background-color:#FFFFFF;\">\n",
    "    <td style=\"text-align:center;\"><b>the floating menu</b></td>\n",
    "    <td style=\"text-align:center;\"><b>the box on the bottom</b></td>\n",
    "    <td style=\"text-align:center;\"><b>the sidebar with coordinates</b></td></tr>\n",
    "<tr style=\"background-color:#FFFFFF;\">\n",
    "    <td><img src=\"img/here.png\" width=\"330\"></td>\n",
    "    <td><img src=\"img/bottom_box.png\" width=\"330\"></td>\n",
    "    <td><img src=\"img/stock_coords.png\" width=\"400\"></td>\n",
    "    </tr></table>"
   ]
  },
  {
   "cell_type": "markdown",
   "metadata": {},
   "source": [
    "The coordinates for the Stock Pavilion are roughly \"40.101027, -88.227152\". \n",
    "\n",
    "It's important to record them in this order, with a comma and space in between, and don't forget the negative sign before the 88 if you are mapping in Illinois!"
   ]
  },
  {
   "cell_type": "markdown",
   "metadata": {},
   "source": [
    "### Try it out - what are the coordinates of your school?"
   ]
  },
  {
   "cell_type": "markdown",
   "metadata": {},
   "source": [
    "Once you can find coordinates for places you want to map, you are ready to move to the next notebook and map things!"
   ]
  },
  {
   "cell_type": "markdown",
   "metadata": {},
   "source": [
    " "
   ]
  },
  {
   "cell_type": "markdown",
   "metadata": {},
   "source": [
    " "
   ]
  },
  {
   "cell_type": "markdown",
   "metadata": {},
   "source": [
    "## Part 3: What do you want to map?"
   ]
  },
  {
   "cell_type": "markdown",
   "metadata": {},
   "source": [
    "#### Note that for your privacy, it's best not to map your house!"
   ]
  },
  {
   "cell_type": "markdown",
   "metadata": {},
   "source": [
    "Before you start making your map you should think about what you want to map! Find coordinates for important places you want to map. For a large place you may want to get coordinates for the edges."
   ]
  },
  {
   "cell_type": "markdown",
   "metadata": {},
   "source": [
    "When you are finished, check out the next notebook: [Create Your Own Map](Create%20Your%20Own%20Map.ipynb)."
   ]
  },
  {
   "cell_type": "markdown",
   "metadata": {},
   "source": [
    "<p style=\"font-size:60%\">This notebook was created by R. Vandewalle for the NOBEL project, 2020</p>"
   ]
  }
 ],
 "metadata": {
  "kernelspec": {
   "display_name": "Python 3",
   "language": "python",
   "name": "python3"
  },
  "language_info": {
   "codemirror_mode": {
    "name": "ipython",
    "version": 3
   },
   "file_extension": ".py",
   "mimetype": "text/x-python",
   "name": "python",
   "nbconvert_exporter": "python",
   "pygments_lexer": "ipython3",
   "version": "3.7.6"
  }
 },
 "nbformat": 4,
 "nbformat_minor": 4
}
